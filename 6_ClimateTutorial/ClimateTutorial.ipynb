{
 "cells": [
  {
   "cell_type": "markdown",
   "id": "9359d513-5abb-4bcd-a0dc-b8f745deec4a",
   "metadata": {},
   "source": [
    "# Climate Tutorial"
   ]
  },
  {
   "cell_type": "code",
   "execution_count": 1,
   "id": "7fe854e2-3e3b-4fa3-a0f1-02373bce7585",
   "metadata": {},
   "outputs": [],
   "source": [
    "import numpy as np\n",
    "from scipy import constants as const\n",
    "from matplotlib import pyplot as plt\n",
    "plt.rcParams.update({'font.size': 15})"
   ]
  },
  {
   "cell_type": "markdown",
   "id": "f0a4ad3f-4ad4-458d-83ba-9d54cf83e0c3",
   "metadata": {},
   "source": [
    "The climate model is contained within the `AdiabatClimate` class, which we import below."
   ]
  },
  {
   "cell_type": "code",
   "execution_count": 2,
   "id": "ec77f5d1-45c2-47a1-9352-1c12903cf5e7",
   "metadata": {},
   "outputs": [],
   "source": [
    "# Climate model\n",
    "from photochem.clima import AdiabatClimate\n",
    "\n",
    "# Also set the thread count\n",
    "from threadpoolctl import threadpool_limits\n",
    "_ = threadpool_limits(limits=4)"
   ]
  },
  {
   "cell_type": "code",
   "execution_count": null,
   "id": "8e47edeb-b475-453b-aa8b-0e504d565d6d",
   "metadata": {},
   "outputs": [],
   "source": []
  }
 ],
 "metadata": {
  "kernelspec": {
   "display_name": "Python 3 (ipykernel)",
   "language": "python",
   "name": "python3"
  },
  "language_info": {
   "codemirror_mode": {
    "name": "ipython",
    "version": 3
   },
   "file_extension": ".py",
   "mimetype": "text/x-python",
   "name": "python",
   "nbconvert_exporter": "python",
   "pygments_lexer": "ipython3",
   "version": "3.12.7"
  }
 },
 "nbformat": 4,
 "nbformat_minor": 5
}
