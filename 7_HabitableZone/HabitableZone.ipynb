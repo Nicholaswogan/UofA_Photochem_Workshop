{
 "cells": [
  {
   "cell_type": "code",
   "execution_count": 1,
   "id": "966a4347-ceb6-4f8e-847c-3bf709a77bb2",
   "metadata": {},
   "outputs": [],
   "source": [
    "import numpy as np\n",
    "from scipy import constants as const\n",
    "from matplotlib import pyplot as plt\n",
    "plt.rcParams.update({'font.size': 15})\n",
    "\n",
    "# Climate model\n",
    "from photochem.clima import AdiabatClimate\n",
    "\n",
    "# Also set the thread count\n",
    "from threadpoolctl import threadpool_limits\n",
    "_ = threadpool_limits(limits=4)"
   ]
  },
  {
   "cell_type": "markdown",
   "id": "2400bdd2-b9b9-43b2-bc8a-b6cb5f6d1878",
   "metadata": {},
   "source": [
    "# Problem: Determine the boundaries of the habitable zone\n",
    "\n",
    "The goal is to use `AdiabatClimate` to compute the boundaries of the habitable zone for an Earth-like planet orbiting a Sun-like star. Here, we define the habitable zone as the range of distances from the star (in AU) where a planet can have condensed water on the surface for an atmosphere composed of N$_2$, H$_2$O and CO$_2$.\n",
    "\n",
    "# Directions\n",
    "\n",
    "First consider the inner edge of the habitable zone, then the outer edge. For the inner edge, produce figures similar to Fig. 3a and 3c in [Kopparapu et al. (2013), *ApJ*](https://doi.org/10.1088/0004-637X/765/2/131). For the outer edge make figures similar Fig. 5a and 5c of the same paper. All of these calculations can be done with the `AdiabatClimate.TOA_fluxes` function.\n",
    "\n",
    "Kopparapu et al. (2013) introduces the quantity $S_\\mathrm{eff}$, which is the fraction of the solar flux at Earth required to maintain the current climate. If `AdiabatClimate` is initialized with the solar spectrum at Earth, then we can compute $S_\\mathrm{eff}$ with,\n",
    "\n",
    "$$S_\\mathrm{eff} = \\frac{F_\\mathrm{OLR}}{F_\\mathrm{ASR}}$$\n",
    "\n",
    "Here, $F_\\mathrm{OLR}$ and $F_\\mathrm{ASR}$ are the outgoing longwave and absorbed shortwave fluxes computed by the function `AdiabatClimate.TOA_fluxes`. $S_\\mathrm{eff}$ can be related to the distance from the Sun, in AU with\n",
    "\n",
    "$$d = \\sqrt{\\frac{1}{S_\\mathrm{eff}}}$$\n"
   ]
  },
  {
   "cell_type": "code",
   "execution_count": 2,
   "id": "9c1610ba-06cf-4474-8227-b3584436645a",
   "metadata": {},
   "outputs": [],
   "source": [
    "# Initialize the code\n",
    "c = AdiabatClimate(\n",
    "    '../6_ClimateTutorial/input/species.yaml',\n",
    "    '../6_ClimateTutorial/input/settings.yaml',\n",
    "    '../6_ClimateTutorial/input/Sun_now.txt',\n",
    ")"
   ]
  },
  {
   "cell_type": "code",
   "execution_count": null,
   "id": "bbf76704-fbcd-45ee-9e61-f1e638e52b73",
   "metadata": {},
   "outputs": [],
   "source": []
  }
 ],
 "metadata": {
  "kernelspec": {
   "display_name": "Python 3 (ipykernel)",
   "language": "python",
   "name": "python3"
  },
  "language_info": {
   "codemirror_mode": {
    "name": "ipython",
    "version": 3
   },
   "file_extension": ".py",
   "mimetype": "text/x-python",
   "name": "python",
   "nbconvert_exporter": "python",
   "pygments_lexer": "ipython3",
   "version": "3.12.7"
  }
 },
 "nbformat": 4,
 "nbformat_minor": 5
}
