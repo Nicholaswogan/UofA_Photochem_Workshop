{
 "cells": [
  {
   "cell_type": "code",
   "execution_count": 1,
   "metadata": {},
   "outputs": [],
   "source": [
    "# Standard imports\n",
    "import numpy as np\n",
    "from matplotlib import pyplot as plt\n",
    "from IPython.display import clear_output\n",
    "plt.rcParams.update({'font.size': 15})\n",
    "\n",
    "# Import Photochem\n",
    "from photochem import EvoAtmosphere"
   ]
  },
  {
   "cell_type": "markdown",
   "metadata": {},
   "source": [
    "# Problem: Simulate the Archean Earth Atmosphere\n",
    "\n",
    "Create a model of the Archean Earth atmosphere (~3 billion years ago) to answer the following questions:\n",
    "\n",
    "1. If the Archean Earth surface biological CH$_4$ flux was the same as today ($10^{11}$ molecule/cm$^2$/s), then what was the surface CH$_4$ concentration?\n",
    "2. What was the main destruction path for CH$_4$ in the Archean?\n",
    "3. What was the surface O$_2$ concentration in the Archean?\n",
    "\n",
    "# Directions\n",
    "\n",
    "Follow these directions to solve the above problem.\n",
    "\n",
    "1. Open up the `settings.yaml` file in this directory, and fill in boundary conditions for N$_2$, CO$_2$ and CH$_4$ appropriate for the Archean Eon.\n",
    "2. In the code cell below, fill in an assumed surface temperature and eddy diffusion coefficient for the Archean.\n",
    "3. Run the code cell bellow. By using `input_files.py`, this code will create the remaining inputs needed for the photochemical model: (1) a reactions file, (2) a stellar flux file and (3) the file \"atmosphere_init.txt\" which contains a temperature and $K_{zz}$ profile and an initial guess for the atmosphere's composition. The code will also initialize the photochemical model with these generated files.\n",
    "4. Integrate the photochemical model to a steady-state. The file `utils.py` has the `find_steady_state` function, for accomplishing this.\n",
    "5. Use the steady-state photochemical model to answer the questions above."
   ]
  },
  {
   "cell_type": "code",
   "execution_count": 2,
   "metadata": {},
   "outputs": [],
   "source": [
    "### SELECT A SURFACE TEMPERATURE AND KZZ VALUE\n",
    "\n",
    "T_surf = ??? # Surface temperature\n",
    "Kzz = ??? # The eddy diffusion (vertically constant, cm^2/s)\n",
    "\n",
    "###\n",
    "\n",
    "# import find_steady_state\n",
    "from utils import find_steady_state, plot_atmosphere\n",
    "# Import input_files.py\n",
    "import input_files\n",
    "\n",
    "# Creates a chemical reaction network with H, N, O, C species\n",
    "input_files.create_zahnle_HNOC()\n",
    "\n",
    "# Creates a spectrum of the Sun at 3.5 Ga\n",
    "input_files.create_Sun_35Ga()\n",
    "\n",
    "# Creates a T, Kzz, and initial gas concentration profiles\n",
    "input_files.create_atmosphere_init(\n",
    "    setting_file='settings.yaml', \n",
    "    T_surf=T_surf,\n",
    "    Kzz=T_surf #\n",
    ")\n",
    "\n",
    "# Initialize the code\n",
    "pc = EvoAtmosphere(\n",
    "    'zahnle_HNOC.yaml',\n",
    "    'settings.yaml',\n",
    "    'Sun_3.5Ga.txt',\n",
    "    'atmosphere_init.txt'\n",
    ")\n",
    "pc.var.verbose = 0\n",
    "pc.var.atol = 1e-20\n",
    "pc.var.autodiff = True"
   ]
  },
  {
   "cell_type": "code",
   "execution_count": null,
   "metadata": {},
   "outputs": [],
   "source": []
  }
 ],
 "metadata": {
  "kernelspec": {
   "display_name": "Python 3 (ipykernel)",
   "language": "python",
   "name": "python3"
  },
  "language_info": {
   "codemirror_mode": {
    "name": "ipython",
    "version": 3
   },
   "file_extension": ".py",
   "mimetype": "text/x-python",
   "name": "python",
   "nbconvert_exporter": "python",
   "pygments_lexer": "ipython3",
   "version": "3.12.7"
  }
 },
 "nbformat": 4,
 "nbformat_minor": 4
}
