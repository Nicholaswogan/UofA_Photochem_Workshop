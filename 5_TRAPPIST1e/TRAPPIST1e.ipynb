{
 "cells": [
  {
   "cell_type": "code",
   "execution_count": 1,
   "metadata": {},
   "outputs": [],
   "source": [
    "import numpy as np\n",
    "from matplotlib import pyplot as plt\n",
    "from IPython.display import clear_output\n",
    "plt.rcParams.update({'font.size': 15})\n",
    "\n",
    "from photochem import EvoAtmosphere\n",
    "from photochem.clima import AdiabatClimate\n",
    "\n",
    "from threadpoolctl import threadpool_limits\n",
    "_ = threadpool_limits(limits=4)"
   ]
  },
  {
   "cell_type": "markdown",
   "metadata": {},
   "source": [
    "# Problem: Simulate TRAPPIST-1e's atmosphere\n",
    "\n",
    "Let's assume that TRAPPIST-1e is inhabited by methane-producing microbes and has an atmosphere similar to the Archean Earth's (e.g., rich in N$_2$, CO$_2$ and some CH$_4$). Create climate and photochemical models of this scenario to answer the following questions:\n",
    "\n",
    "1. What is the global average surface temperature for your assumed atmospheric composition?\n",
    "2. What is the surface CH$_4$ flux required to sustain your perscribed surface CH$_4$ concentration, and how does it compare to the Modern Earth's biological flux ($\\sim 10^{11}$ molecules/cm$^2$/s)?\n",
    "3. What is the main destruction path for CH$_4$ in the atmosphere?\n",
    "4. What is the hydrocarbon haze production rate in g/cm$^2$/s, and how does it compare to Titan's ($\\sim 10^{-14}$ g/cm$^2$/s)?\n",
    "\n",
    "# Directions\n",
    "\n",
    "Follow these directions to answer the above questions\n",
    "\n",
    "## Step 1: Simulate the climate\n",
    "\n",
    "Use the code cells below to simulate TRAPPIST-1e's climate. Assume the planet has a large surface ocean, and choose some reasonable surface pressures for N$_2$, CO$_2$ and CH$_4$, that resemble the Archean Earth's atmosphere. Check out Fig. 5 in [this review paper](https://www.science.org/doi/10.1126/sciadv.aax1420) for plausible concentrations, or alternatively feel free to just choose values that interest you. However, if you choose a very wild atmosphere (e.g. pure CH$_4$), then the models will probably fail to converge."
   ]
  },
  {
   "cell_type": "code",
   "execution_count": 2,
   "metadata": {},
   "outputs": [],
   "source": [
    "# Imports extra utilities\n",
    "import input_files\n",
    "import utils\n",
    "\n",
    "# Makes a reaction file\n",
    "input_files.create_zahnle_HNOC()\n",
    "\n",
    "# Gets stellar spectrum\n",
    "input_files.create_TRAPPIST1e_stellar_flux()"
   ]
  },
  {
   "cell_type": "code",
   "execution_count": 3,
   "metadata": {},
   "outputs": [],
   "source": [
    "# Initialize the climate model\n",
    "c = AdiabatClimate(\n",
    "    'input/species_climate.yaml',\n",
    "    'input/settings_climate.yaml',\n",
    "    'TRAPPIST1e_stellar_flux.txt'\n",
    ")"
   ]
  },
  {
   "cell_type": "code",
   "execution_count": 4,
   "metadata": {},
   "outputs": [],
   "source": [
    "P_N2 = ??? # INPUT A PRESSURE HERE IN BARS\n",
    "P_CO2 = ??? # INPUT A PRESSURE HERE IN BARS\n",
    "P_CH4 = ??? # INPUT A PRESSURE HERE IN BARS\n",
    "\n",
    "# Input atmospheric composition\n",
    "P_i = np.ones(len(c.species_names))*1e-10\n",
    "P_i[c.species_names.index('H2O')] = 270 # This is 1 ocean in bars\n",
    "P_i[c.species_names.index('N2')] = P_N2\n",
    "P_i[c.species_names.index('CO2')] = P_CO2\n",
    "P_i[c.species_names.index('CH4')] = P_CH4\n",
    "P_i *= 1e6 # convert to dynes/cm^2\n",
    "\n",
    "# Several settings\n",
    "c.RH = np.ones(len(c.species_names))*0.5 # 0.5 relative humidity\n",
    "c.P_top = 1e-5*1e6\n",
    "c.max_rc_iters = 30\n",
    "# This is a convective adjustment parameter that should be about 0.05\n",
    "c.convective_newton_step_size = 0.05\n",
    "\n",
    "# Make guess for temperature structure with simple model\n",
    "c.solve_for_T_trop = True\n",
    "c.T_trop = c.rad.skin_temperature(0.3)\n",
    "c.surface_temperature(P_i, T_guess=300)\n",
    "\n",
    "# Solve for full RCE\n",
    "converged = c.RCE(P_i, c.T_surf, c.T, c.convecting_with_below)"
   ]
  },
  {
   "cell_type": "code",
   "execution_count": 1,
   "metadata": {},
   "outputs": [],
   "source": [
    "# You can make a plot of the atmosphere like this:\n",
    "# fig, axs = utils.plot_atmosphere_clima(c)\n",
    "# plt.show()"
   ]
  },
  {
   "cell_type": "markdown",
   "metadata": {},
   "source": [
    "Output the results of the climate model to a file. We will use them as initial conditions for the photochemical model. Also, choose an eddy diffusion coefficient for the photochemical simulation."
   ]
  },
  {
   "cell_type": "code",
   "execution_count": 7,
   "metadata": {},
   "outputs": [],
   "source": [
    "eddy = ??? # CHOOSE AN EDDY DIFFUSION HERE (cm^2/s)\n",
    "c.out2atmosphere_txt('atmosphere_init.txt', eddy=np.ones(c.z.shape[0])*eddy, overwrite=True)"
   ]
  },
  {
   "cell_type": "markdown",
   "metadata": {},
   "source": [
    "## Step 2: Simulate the photochemistry\n",
    "\n",
    "Now simulate TRAPPIST-1e's photochemistry. The code below initializes the photochemical model, changes some settings, then sets surface pressure boundary conditions for N$_2$, CO$_2$ and CH$_4$ to values that you specified previously for climate modeling. Finally, the code cell moves the top of the atmosphere model domain to $10^{-7}$ bar, which is probably appropriate for a photochemical simulation.\n",
    "\n",
    "After the code is initialized used the function `utils.find_steady_state` to compute a steady state. Then answer questions 2 - 4 from the beginning of the notebook. \n",
    "\n",
    "Hint: You will need to use the functions `pc.gas_fluxes`, `pc.production_and_loss` attached to the `EvoAtomsphere` object and also the function `haze_production_rate` in `utils.py`."
   ]
  },
  {
   "cell_type": "code",
   "execution_count": 8,
   "metadata": {},
   "outputs": [],
   "source": [
    "# Initialize the Photochemical code\n",
    "pc = EvoAtmosphere(\n",
    "    'zahnle_HNOC.yaml',\n",
    "    'input/settings_photochemistry.yaml',\n",
    "    'TRAPPIST1e_stellar_flux.txt',\n",
    "    'atmosphere_init.txt'\n",
    ")\n",
    "pc.var.verbose = 0\n",
    "pc.var.atol = 1e-23\n",
    "pc.var.upwind_molec_diff = True\n",
    "\n",
    "# Sets surface \n",
    "pc.set_lower_bc('N2',bc_type='press',press=P_N2*1e6)\n",
    "pc.set_lower_bc('CO2',bc_type='press',press=P_CO2*1e6)\n",
    "pc.set_lower_bc('CH4',bc_type='press',press=P_CH4*1e6)\n",
    "\n",
    "# Need to move the TOA higher than the climate model\n",
    "pc.update_vertical_grid(TOA_pressure=1e-7*1e6)"
   ]
  },
  {
   "cell_type": "code",
   "execution_count": null,
   "metadata": {},
   "outputs": [],
   "source": []
  }
 ],
 "metadata": {
  "kernelspec": {
   "display_name": "Python 3 (ipykernel)",
   "language": "python",
   "name": "python3"
  },
  "language_info": {
   "codemirror_mode": {
    "name": "ipython",
    "version": 3
   },
   "file_extension": ".py",
   "mimetype": "text/x-python",
   "name": "python",
   "nbconvert_exporter": "python",
   "pygments_lexer": "ipython3",
   "version": "3.12.7"
  }
 },
 "nbformat": 4,
 "nbformat_minor": 4
}
